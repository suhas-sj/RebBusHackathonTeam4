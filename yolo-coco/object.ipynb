{
 "cells": [
  {
   "cell_type": "code",
   "execution_count": null,
   "id": "1d64f759",
   "metadata": {},
   "outputs": [],
   "source": [
    "import cv2\n",
    "import numpy as np"
   ]
  },
  {
   "cell_type": "code",
   "execution_count": null,
   "id": "c7033b3b",
   "metadata": {},
   "outputs": [],
   "source": [
    "# Load Yolo\n",
    "print(\"LOADING YOLO\")\n",
    "net = cv2.dnn.readNet(\"yolov3.weights\", \"yolov3.cfg\")\n"
   ]
  },
  {
   "cell_type": "code",
   "execution_count": null,
   "id": "0e909337",
   "metadata": {},
   "outputs": [],
   "source": [
    "#save all the names in file o the list classes\n",
    "classes = []\n",
    "with open(\"coco.names\", \"r\") as f:\n",
    "    classes = [line.strip() for line in f.readlines()]\n"
   ]
  },
  {
   "cell_type": "code",
   "execution_count": null,
   "id": "b7ec402a",
   "metadata": {},
   "outputs": [],
   "source": [
    "#get layers of the network\n",
    "layer_names = net.getLayerNames()\n"
   ]
  },
  {
   "cell_type": "code",
   "execution_count": null,
   "id": "39de1f23",
   "metadata": {},
   "outputs": [],
   "source": [
    "#Determine the output layer names from the YOLO model\n",
    "output_layers = [layer_names[i - 1] for i in net.getUnconnectedOutLayers()]\n",
    "print(\"YOLO LOADED\")"
   ]
  },
  {
   "cell_type": "code",
   "execution_count": null,
   "id": "6ac44b1c",
   "metadata": {},
   "outputs": [],
   "source": [
    "# Capture frame-by-frame\n",
    "#img = cv2.imread(\"images.jpg\")"
   ]
  },
  {
   "cell_type": "code",
   "execution_count": null,
   "id": "cd6cb544",
   "metadata": {},
   "outputs": [],
   "source": [
    "vid = cv2.VideoCapture(0)\n",
    "  \n",
    "while(True):\n",
    "      \n",
    "    # Capture the video frame\n",
    "    # by frame\n",
    "    ret, frame = vid.read()\n",
    "    height, width, channels = frame.shape\n",
    "    blob = cv2.dnn.blobFromImage(frame, 1 / 255.0, (416, 416),swapRB=True, crop=False)\n",
    "    net.setInput(blob)\n",
    "    outs = net.forward(output_layers)\n",
    "    class_ids = []\n",
    "    confidences = []\n",
    "    boxes = []\n",
    "    for out in outs:\n",
    "        for detection in out:\n",
    "            scores = detection[5:]\n",
    "            class_id = np.argmax(scores)\n",
    "            confidence = scores[class_id]\n",
    "            if confidence > 0.5:\n",
    "                # Object detected\n",
    "                center_x = int(detection[0] * width)\n",
    "                center_y = int(detection[1] * height)\n",
    "                w = int(detection[2] * width)\n",
    "                h = int(detection[3] * height)\n",
    "                # Rectangle coordinates\n",
    "                x = int(center_x - w / 2)\n",
    "                y = int(center_y - h / 2)\n",
    "                boxes.append([x, y, w, h])\n",
    "                confidences.append(float(confidence))\n",
    "                class_ids.append(class_id)\n",
    "    indexes = cv2.dnn.NMSBoxes(boxes, confidences, 0.5, 0.4)\n",
    "    colors = np.random.uniform(0, 255, size=(len(classes), 3))\n",
    "    for i in range(len(boxes)):\n",
    "        if i in indexes:\n",
    "            x, y, w, h = boxes[i]\n",
    "            label = str(classes[class_ids[i]])\n",
    "            color = colors[class_ids[i]]\n",
    "            cv2.rectangle(frame, (x, y), (x + w, y + h), color, 2)\n",
    "            cv2.putText(frame, label, (x, y -5),cv2.FONT_HERSHEY_SIMPLEX,1/2,color, 2)\n",
    "    cv2.imshow(\"Image\",frame)\n",
    "    cv2.waitKey(5)\n",
    "vid.release()\n",
    "cv2.destroyAllWindows()"
   ]
  },
  {
   "cell_type": "code",
   "execution_count": null,
   "id": "f82c179e",
   "metadata": {},
   "outputs": [],
   "source": [
    "#img = cv2.resize(img, None, fx=0.4, fy=0.4)\n",
    "#height, width, channels = img.shape"
   ]
  },
  {
   "cell_type": "code",
   "execution_count": null,
   "id": "5c741343",
   "metadata": {},
   "outputs": [],
   "source": [
    "# USing blob function of opencv to preprocess image\n",
    "#blob = cv2.dnn.blobFromImage(img, 1 / 255.0, (416, 416),swapRB=True, \n",
    "#crop=False)\n"
   ]
  },
  {
   "cell_type": "code",
   "execution_count": null,
   "id": "f20295ae",
   "metadata": {},
   "outputs": [],
   "source": [
    "#Detecting objects\n",
    "#net.setInput(blob)\n",
    "#outs = net.forward(output_layers)"
   ]
  },
  {
   "cell_type": "code",
   "execution_count": null,
   "id": "bbac0499",
   "metadata": {},
   "outputs": [],
   "source": [
    "# Showing informations on the screen\n",
    "#class_ids = []\n",
    "#confidences = []\n",
    "#boxes = []\n",
    "#for out in outs:\n",
    " #   for detection in out:\n",
    "  #      scores = detection[5:]\n",
    "   #     class_id = np.argmax(scores)\n",
    "    #    confidence = scores[class_id]\n",
    "     #   if confidence > 0.5:\n",
    "            # Object detected\n",
    "      #      center_x = int(detection[0] * width)\n",
    "       #     center_y = int(detection[1] * height)\n",
    "        #    w = int(detection[2] * width)\n",
    "         #   h = int(detection[3] * height)\n",
    "            # Rectangle coordinates\n",
    "          #  x = int(center_x - w / 2)\n",
    "           # y = int(center_y - h / 2)\n",
    "            #boxes.append([x, y, w, h])\n",
    "            #confidences.append(float(confidence))\n",
    "            #class_ids.append(class_id)"
   ]
  },
  {
   "cell_type": "code",
   "execution_count": null,
   "id": "9024a001",
   "metadata": {},
   "outputs": [],
   "source": [
    "#We use NMS function in opencv to perform Non-maximum Suppression\n",
    "#we give it score threshold and nms threshold as arguments.\n",
    "#indexes = cv2.dnn.NMSBoxes(boxes, confidences, 0.5, 0.4)\n",
    "#colors = np.random.uniform(0, 255, size=(len(classes), 3))"
   ]
  },
  {
   "cell_type": "code",
   "execution_count": null,
   "id": "d5e0b7bd",
   "metadata": {},
   "outputs": [],
   "source": [
    "#for i in range(len(boxes)):\n",
    " #   if i in indexes:\n",
    "  #      x, y, w, h = boxes[i]\n",
    "   #     label = str(classes[class_ids[i]])\n",
    "    #    color = colors[class_ids[i]]\n",
    "     #   cv2.rectangle(img, (x, y), (x + w, y + h), color, 2)\n",
    "      #  cv2.putText(img, label, (x, y -5),cv2.FONT_HERSHEY_SIMPLEX,1/2,color, 2)\n",
    "#cv2.imshow(\"Image\",img)\n",
    "#cv2.waitKey(0)"
   ]
  },
  {
   "cell_type": "code",
   "execution_count": null,
   "id": "7945804a",
   "metadata": {},
   "outputs": [],
   "source": []
  },
  {
   "cell_type": "code",
   "execution_count": null,
   "id": "df0236d6",
   "metadata": {},
   "outputs": [],
   "source": []
  }
 ],
 "metadata": {
  "kernelspec": {
   "display_name": "Python 3 (ipykernel)",
   "language": "python",
   "name": "python3"
  },
  "language_info": {
   "codemirror_mode": {
    "name": "ipython",
    "version": 3
   },
   "file_extension": ".py",
   "mimetype": "text/x-python",
   "name": "python",
   "nbconvert_exporter": "python",
   "pygments_lexer": "ipython3",
   "version": "3.9.7"
  }
 },
 "nbformat": 4,
 "nbformat_minor": 5
}
